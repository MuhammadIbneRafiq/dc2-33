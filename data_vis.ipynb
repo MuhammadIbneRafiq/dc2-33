{
 "cells": [
  {
   "cell_type": "code",
   "execution_count": 1,
   "metadata": {},
   "outputs": [
    {
     "name": "stdout",
     "output_type": "stream",
     "text": [
      "Collecting police-api-client==1.0.1\n",
      "  Using cached police-api-client-1.0.1.tar.gz (9.2 kB)\n",
      "  Installing build dependencies: started\n",
      "  Installing build dependencies: finished with status 'done'\n",
      "  Getting requirements to build wheel: started\n",
      "  Getting requirements to build wheel: finished with status 'done'\n",
      "  Installing backend dependencies: started\n",
      "  Installing backend dependencies: finished with status 'done'\n",
      "  Preparing metadata (pyproject.toml): started\n",
      "  Preparing metadata (pyproject.toml): finished with status 'done'\n",
      "Requirement already satisfied: requests in c:\\users\\x1 yoga\\documents\\q4\\dc2\\venv\\lib\\site-packages (from police-api-client==1.0.1) (2.32.3)\n",
      "Requirement already satisfied: responses in c:\\users\\x1 yoga\\documents\\q4\\dc2\\venv\\lib\\site-packages (from police-api-client==1.0.1) (0.25.7)\n",
      "Requirement already satisfied: charset-normalizer<4,>=2 in c:\\users\\x1 yoga\\documents\\q4\\dc2\\venv\\lib\\site-packages (from requests->police-api-client==1.0.1) (3.4.1)\n",
      "Requirement already satisfied: idna<4,>=2.5 in c:\\users\\x1 yoga\\documents\\q4\\dc2\\venv\\lib\\site-packages (from requests->police-api-client==1.0.1) (3.10)\n",
      "Requirement already satisfied: urllib3<3,>=1.21.1 in c:\\users\\x1 yoga\\documents\\q4\\dc2\\venv\\lib\\site-packages (from requests->police-api-client==1.0.1) (2.4.0)\n",
      "Requirement already satisfied: certifi>=2017.4.17 in c:\\users\\x1 yoga\\documents\\q4\\dc2\\venv\\lib\\site-packages (from requests->police-api-client==1.0.1) (2025.1.31)\n",
      "Requirement already satisfied: pyyaml in c:\\users\\x1 yoga\\documents\\q4\\dc2\\venv\\lib\\site-packages (from responses->police-api-client==1.0.1) (6.0.2)\n",
      "Building wheels for collected packages: police-api-client\n",
      "  Building wheel for police-api-client (pyproject.toml): started\n",
      "  Building wheel for police-api-client (pyproject.toml): finished with status 'done'\n",
      "  Created wheel for police-api-client: filename=police_api_client-1.0.1-py3-none-any.whl size=11202 sha256=33b6fa88a657d65e5579dd87949652a9cbdf2455350fd7124a450e51f367bfac\n",
      "  Stored in directory: c:\\users\\x1 yoga\\appdata\\local\\pip\\cache\\wheels\\45\\07\\22\\2f1ce0367f052649bf261fccfbb9b1c93f4c213a88873e3ac0\n",
      "Successfully built police-api-client\n",
      "Installing collected packages: police-api-client\n",
      "Successfully installed police-api-client-1.0.1\n"
     ]
    },
    {
     "name": "stderr",
     "output_type": "stream",
     "text": [
      "\n",
      "[notice] A new release of pip is available: 24.0 -> 25.0.1\n",
      "[notice] To update, run: python.exe -m pip install --upgrade pip\n"
     ]
    }
   ],
   "source": [
    "!pip3 install police-api-client==1.0.1\n"
   ]
  },
  {
   "cell_type": "code",
   "execution_count": 2,
   "metadata": {},
   "outputs": [
    {
     "name": "stdout",
     "output_type": "stream",
     "text": [
      "Requirement already satisfied: pandas in c:\\users\\x1 yoga\\documents\\q4\\dc2\\venv\\lib\\site-packages (2.2.3)\n",
      "Requirement already satisfied: numpy>=1.26.0 in c:\\users\\x1 yoga\\documents\\q4\\dc2\\venv\\lib\\site-packages (from pandas) (2.2.5)\n",
      "Requirement already satisfied: python-dateutil>=2.8.2 in c:\\users\\x1 yoga\\documents\\q4\\dc2\\venv\\lib\\site-packages (from pandas) (2.9.0.post0)\n",
      "Requirement already satisfied: pytz>=2020.1 in c:\\users\\x1 yoga\\documents\\q4\\dc2\\venv\\lib\\site-packages (from pandas) (2025.2)\n",
      "Requirement already satisfied: tzdata>=2022.7 in c:\\users\\x1 yoga\\documents\\q4\\dc2\\venv\\lib\\site-packages (from pandas) (2025.2)\n",
      "Requirement already satisfied: six>=1.5 in c:\\users\\x1 yoga\\documents\\q4\\dc2\\venv\\lib\\site-packages (from python-dateutil>=2.8.2->pandas) (1.17.0)\n"
     ]
    },
    {
     "name": "stderr",
     "output_type": "stream",
     "text": [
      "\n",
      "[notice] A new release of pip is available: 24.0 -> 25.0.1\n",
      "[notice] To update, run: python.exe -m pip install --upgrade pip\n"
     ]
    },
    {
     "name": "stdout",
     "output_type": "stream",
     "text": [
      "Requirement already satisfied: matplotlib in c:\\users\\x1 yoga\\documents\\q4\\dc2\\venv\\lib\\site-packages (3.10.1)\n",
      "Requirement already satisfied: contourpy>=1.0.1 in c:\\users\\x1 yoga\\documents\\q4\\dc2\\venv\\lib\\site-packages (from matplotlib) (1.3.2)\n",
      "Requirement already satisfied: cycler>=0.10 in c:\\users\\x1 yoga\\documents\\q4\\dc2\\venv\\lib\\site-packages (from matplotlib) (0.12.1)\n",
      "Requirement already satisfied: fonttools>=4.22.0 in c:\\users\\x1 yoga\\documents\\q4\\dc2\\venv\\lib\\site-packages (from matplotlib) (4.57.0)\n",
      "Requirement already satisfied: kiwisolver>=1.3.1 in c:\\users\\x1 yoga\\documents\\q4\\dc2\\venv\\lib\\site-packages (from matplotlib) (1.4.8)\n",
      "Requirement already satisfied: numpy>=1.23 in c:\\users\\x1 yoga\\documents\\q4\\dc2\\venv\\lib\\site-packages (from matplotlib) (2.2.5)\n",
      "Requirement already satisfied: packaging>=20.0 in c:\\users\\x1 yoga\\documents\\q4\\dc2\\venv\\lib\\site-packages (from matplotlib) (25.0)\n",
      "Requirement already satisfied: pillow>=8 in c:\\users\\x1 yoga\\documents\\q4\\dc2\\venv\\lib\\site-packages (from matplotlib) (11.2.1)\n",
      "Requirement already satisfied: pyparsing>=2.3.1 in c:\\users\\x1 yoga\\documents\\q4\\dc2\\venv\\lib\\site-packages (from matplotlib) (3.2.3)\n",
      "Requirement already satisfied: python-dateutil>=2.7 in c:\\users\\x1 yoga\\documents\\q4\\dc2\\venv\\lib\\site-packages (from matplotlib) (2.9.0.post0)\n",
      "Requirement already satisfied: six>=1.5 in c:\\users\\x1 yoga\\documents\\q4\\dc2\\venv\\lib\\site-packages (from python-dateutil>=2.7->matplotlib) (1.17.0)\n"
     ]
    },
    {
     "name": "stderr",
     "output_type": "stream",
     "text": [
      "\n",
      "[notice] A new release of pip is available: 24.0 -> 25.0.1\n",
      "[notice] To update, run: python.exe -m pip install --upgrade pip\n"
     ]
    }
   ],
   "source": [
    "!pip3 install pandas\n",
    "import json\n",
    "!pip3 install matplotlib"
   ]
  },
  {
   "cell_type": "code",
   "execution_count": 3,
   "metadata": {},
   "outputs": [],
   "source": [
    "from police_api import PoliceAPI\n",
    "api = PoliceAPI()"
   ]
  },
  {
   "cell_type": "code",
   "execution_count": 4,
   "metadata": {},
   "outputs": [
    {
     "name": "stdout",
     "output_type": "stream",
     "text": [
      "{'date': '2025-02-01'}\n"
     ]
    }
   ],
   "source": [
    "import requests\n",
    "print(requests.get('https://data.police.uk/api/crime-last-updated').json())"
   ]
  },
  {
   "cell_type": "code",
   "execution_count": 5,
   "metadata": {},
   "outputs": [],
   "source": [
    "import requests\n",
    "import pandas as pd\n",
    "import json\n",
    "import matplotlib.pyplot as plt\n",
    "from datetime import datetime"
   ]
  },
  {
   "cell_type": "code",
   "execution_count": 6,
   "metadata": {},
   "outputs": [
    {
     "name": "stdout",
     "output_type": "stream",
     "text": [
      "<Force> City of London Police\n"
     ]
    }
   ],
   "source": [
    "api.get_forces()\n",
    "# [<Force> Avon and Somerset Constabulary, ..., <Force> Wiltshire Police]\n",
    "leicestershire = api.get_force('city-of-london')\n",
    "\n",
    "print(leicestershire)"
   ]
  },
  {
   "cell_type": "code",
   "execution_count": 7,
   "metadata": {},
   "outputs": [],
   "source": [
    "leicestershire.neighbourhoods\n",
    "neighbourhood = api.get_neighbourhood('city-of-london', 'ban')\n"
   ]
  },
  {
   "cell_type": "code",
   "execution_count": 8,
   "metadata": {},
   "outputs": [
    {
     "ename": "APIError",
     "evalue": "<unknown error code>",
     "output_type": "error",
     "traceback": [
      "\u001b[31m---------------------------------------------------------------------------\u001b[39m",
      "\u001b[31mHTTPError\u001b[39m                                 Traceback (most recent call last)",
      "\u001b[36mFile \u001b[39m\u001b[32mc:\\Users\\x1 yoga\\Documents\\q4\\dc2\\venv\\Lib\\site-packages\\police_api\\service.py:22\u001b[39m, in \u001b[36mBaseService.raise_for_status\u001b[39m\u001b[34m(self, request)\u001b[39m\n\u001b[32m     21\u001b[39m \u001b[38;5;28;01mtry\u001b[39;00m:\n\u001b[32m---> \u001b[39m\u001b[32m22\u001b[39m     \u001b[43mrequest\u001b[49m\u001b[43m.\u001b[49m\u001b[43mraise_for_status\u001b[49m\u001b[43m(\u001b[49m\u001b[43m)\u001b[49m\n\u001b[32m     23\u001b[39m \u001b[38;5;28;01mexcept\u001b[39;00m requests.models.HTTPError \u001b[38;5;28;01mas\u001b[39;00m e:\n",
      "\u001b[36mFile \u001b[39m\u001b[32mc:\\Users\\x1 yoga\\Documents\\q4\\dc2\\venv\\Lib\\site-packages\\requests\\models.py:1024\u001b[39m, in \u001b[36mResponse.raise_for_status\u001b[39m\u001b[34m(self)\u001b[39m\n\u001b[32m   1023\u001b[39m \u001b[38;5;28;01mif\u001b[39;00m http_error_msg:\n\u001b[32m-> \u001b[39m\u001b[32m1024\u001b[39m     \u001b[38;5;28;01mraise\u001b[39;00m HTTPError(http_error_msg, response=\u001b[38;5;28mself\u001b[39m)\n",
      "\u001b[31mHTTPError\u001b[39m: 404 Client Error: NOT FOUND for url: https://data.police.uk:443/api/outcomes-for-crime/ddf4c172d29569ab0cb667a346bcffad18f54a9bc3e0ae9694d2daf6738f068b",
      "\nDuring handling of the above exception, another exception occurred:\n",
      "\u001b[31mAPIError\u001b[39m                                  Traceback (most recent call last)",
      "\u001b[36mCell\u001b[39m\u001b[36m \u001b[39m\u001b[32mIn[8]\u001b[39m\u001b[32m, line 1\u001b[39m\n\u001b[32m----> \u001b[39m\u001b[32m1\u001b[39m crime = \u001b[43mapi\u001b[49m\u001b[43m.\u001b[49m\u001b[43mget_crime\u001b[49m\u001b[43m(\u001b[49m\u001b[33;43m'\u001b[39;49m\u001b[33;43mddf4c172d29569ab0cb667a346bcffad18f54a9bc3e0ae9694d2daf6738f068b\u001b[39;49m\u001b[33;43m'\u001b[39;49m\u001b[43m)\u001b[49m\n\u001b[32m      2\u001b[39m crime\n",
      "\u001b[36mFile \u001b[39m\u001b[32mc:\\Users\\x1 yoga\\Documents\\q4\\dc2\\venv\\Lib\\site-packages\\police_api\\__init__.py:82\u001b[39m, in \u001b[36mPoliceAPI.get_crime\u001b[39m\u001b[34m(self, persistent_id)\u001b[39m\n\u001b[32m     80\u001b[39m \u001b[38;5;28;01mdef\u001b[39;00m\u001b[38;5;250m \u001b[39m\u001b[34mget_crime\u001b[39m(\u001b[38;5;28mself\u001b[39m, persistent_id):\n\u001b[32m     81\u001b[39m     method = \u001b[33m'\u001b[39m\u001b[33moutcomes-for-crime/\u001b[39m\u001b[38;5;132;01m%s\u001b[39;00m\u001b[33m'\u001b[39m % persistent_id\n\u001b[32m---> \u001b[39m\u001b[32m82\u001b[39m     response = \u001b[38;5;28;43mself\u001b[39;49m\u001b[43m.\u001b[49m\u001b[43mservice\u001b[49m\u001b[43m.\u001b[49m\u001b[43mrequest\u001b[49m\u001b[43m(\u001b[49m\u001b[33;43m'\u001b[39;49m\u001b[33;43mGET\u001b[39;49m\u001b[33;43m'\u001b[39;49m\u001b[43m,\u001b[49m\u001b[43m \u001b[49m\u001b[43mmethod\u001b[49m\u001b[43m)\u001b[49m\n\u001b[32m     83\u001b[39m     crime = Crime(\u001b[38;5;28mself\u001b[39m, data=response[\u001b[33m'\u001b[39m\u001b[33mcrime\u001b[39m\u001b[33m'\u001b[39m])\n\u001b[32m     84\u001b[39m     crime._outcomes = []\n",
      "\u001b[36mFile \u001b[39m\u001b[32mc:\\Users\\x1 yoga\\Documents\\q4\\dc2\\venv\\Lib\\site-packages\\police_api\\service.py:47\u001b[39m, in \u001b[36mBaseService.request\u001b[39m\u001b[34m(self, verb, method, **kwargs)\u001b[39m\n\u001b[32m     45\u001b[39m \u001b[38;5;28;01mdef\u001b[39;00m\u001b[38;5;250m \u001b[39m\u001b[34mrequest\u001b[39m(\u001b[38;5;28mself\u001b[39m, verb, method, **kwargs):\n\u001b[32m     46\u001b[39m     url = \u001b[38;5;28mself\u001b[39m.config[\u001b[33m'\u001b[39m\u001b[33mbase_url\u001b[39m\u001b[33m'\u001b[39m] + method\n\u001b[32m---> \u001b[39m\u001b[32m47\u001b[39m     \u001b[38;5;28;01mreturn\u001b[39;00m \u001b[38;5;28;43mself\u001b[39;49m\u001b[43m.\u001b[49m\u001b[43m_make_request\u001b[49m\u001b[43m(\u001b[49m\u001b[43mverb\u001b[49m\u001b[43m.\u001b[49m\u001b[43mupper\u001b[49m\u001b[43m(\u001b[49m\u001b[43m)\u001b[49m\u001b[43m,\u001b[49m\u001b[43m \u001b[49m\u001b[43murl\u001b[49m\u001b[43m,\u001b[49m\u001b[43m \u001b[49m\u001b[43mkwargs\u001b[49m\u001b[43m)\u001b[49m\n",
      "\u001b[36mFile \u001b[39m\u001b[32mc:\\Users\\x1 yoga\\Documents\\q4\\dc2\\venv\\Lib\\site-packages\\police_api\\service.py:42\u001b[39m, in \u001b[36mBaseService._make_request\u001b[39m\u001b[34m(self, verb, url, params)\u001b[39m\n\u001b[32m     40\u001b[39m logger.debug(\u001b[33m'\u001b[39m\u001b[38;5;132;01m%s\u001b[39;00m\u001b[33m \u001b[39m\u001b[38;5;132;01m%s\u001b[39;00m\u001b[33m'\u001b[39m % (verb, url))\n\u001b[32m     41\u001b[39m r = requests.request(verb, url, **request_kwargs)\n\u001b[32m---> \u001b[39m\u001b[32m42\u001b[39m \u001b[38;5;28;43mself\u001b[39;49m\u001b[43m.\u001b[49m\u001b[43mraise_for_status\u001b[49m\u001b[43m(\u001b[49m\u001b[43mr\u001b[49m\u001b[43m)\u001b[49m\n\u001b[32m     43\u001b[39m \u001b[38;5;28;01mreturn\u001b[39;00m r.json()\n",
      "\u001b[36mFile \u001b[39m\u001b[32mc:\\Users\\x1 yoga\\Documents\\q4\\dc2\\venv\\Lib\\site-packages\\police_api\\service.py:24\u001b[39m, in \u001b[36mBaseService.raise_for_status\u001b[39m\u001b[34m(self, request)\u001b[39m\n\u001b[32m     22\u001b[39m     request.raise_for_status()\n\u001b[32m     23\u001b[39m \u001b[38;5;28;01mexcept\u001b[39;00m requests.models.HTTPError \u001b[38;5;28;01mas\u001b[39;00m e:\n\u001b[32m---> \u001b[39m\u001b[32m24\u001b[39m     \u001b[38;5;28;01mraise\u001b[39;00m APIError(e)\n",
      "\u001b[31mAPIError\u001b[39m: <unknown error code>"
     ]
    }
   ],
   "source": [
    "crime = api.get_crime('ddf4c172d29569ab0cb667a346bcffad18f54a9bc3e0ae9694d2daf6738f068b')\n",
    "crime"
   ]
  },
  {
   "cell_type": "code",
   "execution_count": 41,
   "metadata": {},
   "outputs": [
    {
     "ename": "APIError",
     "evalue": "<unknown error code>",
     "output_type": "error",
     "traceback": [
      "\u001b[31m---------------------------------------------------------------------------\u001b[39m",
      "\u001b[31mHTTPError\u001b[39m                                 Traceback (most recent call last)",
      "\u001b[36mFile \u001b[39m\u001b[32mc:\\Users\\x1 yoga\\Documents\\q4\\dc2\\venv\\Lib\\site-packages\\police_api\\service.py:22\u001b[39m, in \u001b[36mBaseService.raise_for_status\u001b[39m\u001b[34m(self, request)\u001b[39m\n\u001b[32m     21\u001b[39m \u001b[38;5;28;01mtry\u001b[39;00m:\n\u001b[32m---> \u001b[39m\u001b[32m22\u001b[39m     \u001b[43mrequest\u001b[49m\u001b[43m.\u001b[49m\u001b[43mraise_for_status\u001b[49m\u001b[43m(\u001b[49m\u001b[43m)\u001b[49m\n\u001b[32m     23\u001b[39m \u001b[38;5;28;01mexcept\u001b[39;00m requests.models.HTTPError \u001b[38;5;28;01mas\u001b[39;00m e:\n",
      "\u001b[36mFile \u001b[39m\u001b[32mc:\\Users\\x1 yoga\\Documents\\q4\\dc2\\venv\\Lib\\site-packages\\requests\\models.py:1024\u001b[39m, in \u001b[36mResponse.raise_for_status\u001b[39m\u001b[34m(self)\u001b[39m\n\u001b[32m   1023\u001b[39m \u001b[38;5;28;01mif\u001b[39;00m http_error_msg:\n\u001b[32m-> \u001b[39m\u001b[32m1024\u001b[39m     \u001b[38;5;28;01mraise\u001b[39;00m HTTPError(http_error_msg, response=\u001b[38;5;28mself\u001b[39m)\n",
      "\u001b[31mHTTPError\u001b[39m: 404 Client Error: NOT FOUND for url: https://data.police.uk:443/api/outcomes-for-crime/ddf4c172d29569ab0cb667a346bcffad18f54a9bc3e0ae9694d2daf6738f068b",
      "\nDuring handling of the above exception, another exception occurred:\n",
      "\u001b[31mAPIError\u001b[39m                                  Traceback (most recent call last)",
      "\u001b[36mCell\u001b[39m\u001b[36m \u001b[39m\u001b[32mIn[41]\u001b[39m\u001b[32m, line 1\u001b[39m\n\u001b[32m----> \u001b[39m\u001b[32m1\u001b[39m crime = \u001b[43mapi\u001b[49m\u001b[43m.\u001b[49m\u001b[43mget_crime\u001b[49m\u001b[43m(\u001b[49m\u001b[33;43m'\u001b[39;49m\u001b[33;43mddf4c172d29569ab0cb667a346bcffad18f54a9bc3e0ae9694d2daf6738f068b\u001b[39;49m\u001b[33;43m'\u001b[39;49m\u001b[43m)\u001b[49m\n\u001b[32m      2\u001b[39m crime\n",
      "\u001b[36mFile \u001b[39m\u001b[32mc:\\Users\\x1 yoga\\Documents\\q4\\dc2\\venv\\Lib\\site-packages\\police_api\\__init__.py:82\u001b[39m, in \u001b[36mPoliceAPI.get_crime\u001b[39m\u001b[34m(self, persistent_id)\u001b[39m\n\u001b[32m     80\u001b[39m \u001b[38;5;28;01mdef\u001b[39;00m\u001b[38;5;250m \u001b[39m\u001b[34mget_crime\u001b[39m(\u001b[38;5;28mself\u001b[39m, persistent_id):\n\u001b[32m     81\u001b[39m     method = \u001b[33m'\u001b[39m\u001b[33moutcomes-for-crime/\u001b[39m\u001b[38;5;132;01m%s\u001b[39;00m\u001b[33m'\u001b[39m % persistent_id\n\u001b[32m---> \u001b[39m\u001b[32m82\u001b[39m     response = \u001b[38;5;28;43mself\u001b[39;49m\u001b[43m.\u001b[49m\u001b[43mservice\u001b[49m\u001b[43m.\u001b[49m\u001b[43mrequest\u001b[49m\u001b[43m(\u001b[49m\u001b[33;43m'\u001b[39;49m\u001b[33;43mGET\u001b[39;49m\u001b[33;43m'\u001b[39;49m\u001b[43m,\u001b[49m\u001b[43m \u001b[49m\u001b[43mmethod\u001b[49m\u001b[43m)\u001b[49m\n\u001b[32m     83\u001b[39m     crime = Crime(\u001b[38;5;28mself\u001b[39m, data=response[\u001b[33m'\u001b[39m\u001b[33mcrime\u001b[39m\u001b[33m'\u001b[39m])\n\u001b[32m     84\u001b[39m     crime._outcomes = []\n",
      "\u001b[36mFile \u001b[39m\u001b[32mc:\\Users\\x1 yoga\\Documents\\q4\\dc2\\venv\\Lib\\site-packages\\police_api\\service.py:47\u001b[39m, in \u001b[36mBaseService.request\u001b[39m\u001b[34m(self, verb, method, **kwargs)\u001b[39m\n\u001b[32m     45\u001b[39m \u001b[38;5;28;01mdef\u001b[39;00m\u001b[38;5;250m \u001b[39m\u001b[34mrequest\u001b[39m(\u001b[38;5;28mself\u001b[39m, verb, method, **kwargs):\n\u001b[32m     46\u001b[39m     url = \u001b[38;5;28mself\u001b[39m.config[\u001b[33m'\u001b[39m\u001b[33mbase_url\u001b[39m\u001b[33m'\u001b[39m] + method\n\u001b[32m---> \u001b[39m\u001b[32m47\u001b[39m     \u001b[38;5;28;01mreturn\u001b[39;00m \u001b[38;5;28;43mself\u001b[39;49m\u001b[43m.\u001b[49m\u001b[43m_make_request\u001b[49m\u001b[43m(\u001b[49m\u001b[43mverb\u001b[49m\u001b[43m.\u001b[49m\u001b[43mupper\u001b[49m\u001b[43m(\u001b[49m\u001b[43m)\u001b[49m\u001b[43m,\u001b[49m\u001b[43m \u001b[49m\u001b[43murl\u001b[49m\u001b[43m,\u001b[49m\u001b[43m \u001b[49m\u001b[43mkwargs\u001b[49m\u001b[43m)\u001b[49m\n",
      "\u001b[36mFile \u001b[39m\u001b[32mc:\\Users\\x1 yoga\\Documents\\q4\\dc2\\venv\\Lib\\site-packages\\police_api\\service.py:42\u001b[39m, in \u001b[36mBaseService._make_request\u001b[39m\u001b[34m(self, verb, url, params)\u001b[39m\n\u001b[32m     40\u001b[39m logger.debug(\u001b[33m'\u001b[39m\u001b[38;5;132;01m%s\u001b[39;00m\u001b[33m \u001b[39m\u001b[38;5;132;01m%s\u001b[39;00m\u001b[33m'\u001b[39m % (verb, url))\n\u001b[32m     41\u001b[39m r = requests.request(verb, url, **request_kwargs)\n\u001b[32m---> \u001b[39m\u001b[32m42\u001b[39m \u001b[38;5;28;43mself\u001b[39;49m\u001b[43m.\u001b[49m\u001b[43mraise_for_status\u001b[49m\u001b[43m(\u001b[49m\u001b[43mr\u001b[49m\u001b[43m)\u001b[49m\n\u001b[32m     43\u001b[39m \u001b[38;5;28;01mreturn\u001b[39;00m r.json()\n",
      "\u001b[36mFile \u001b[39m\u001b[32mc:\\Users\\x1 yoga\\Documents\\q4\\dc2\\venv\\Lib\\site-packages\\police_api\\service.py:24\u001b[39m, in \u001b[36mBaseService.raise_for_status\u001b[39m\u001b[34m(self, request)\u001b[39m\n\u001b[32m     22\u001b[39m     request.raise_for_status()\n\u001b[32m     23\u001b[39m \u001b[38;5;28;01mexcept\u001b[39;00m requests.models.HTTPError \u001b[38;5;28;01mas\u001b[39;00m e:\n\u001b[32m---> \u001b[39m\u001b[32m24\u001b[39m     \u001b[38;5;28;01mraise\u001b[39;00m APIError(e)\n",
      "\u001b[31mAPIError\u001b[39m: <unknown error code>"
     ]
    }
   ],
   "source": [
    "print(api.get_crimes_area(neighbourhood.boundary, date='2013-10'))"
   ]
  },
  {
   "cell_type": "code",
   "execution_count": 27,
   "metadata": {},
   "outputs": [
    {
     "ename": "APIError",
     "evalue": "<unknown error code>",
     "output_type": "error",
     "traceback": [
      "\u001b[31m---------------------------------------------------------------------------\u001b[39m",
      "\u001b[31mHTTPError\u001b[39m                                 Traceback (most recent call last)",
      "\u001b[36mFile \u001b[39m\u001b[32mc:\\Users\\x1 yoga\\Documents\\q4\\dc2\\venv\\Lib\\site-packages\\police_api\\service.py:22\u001b[39m, in \u001b[36mBaseService.raise_for_status\u001b[39m\u001b[34m(self, request)\u001b[39m\n\u001b[32m     21\u001b[39m \u001b[38;5;28;01mtry\u001b[39;00m:\n\u001b[32m---> \u001b[39m\u001b[32m22\u001b[39m     \u001b[43mrequest\u001b[49m\u001b[43m.\u001b[49m\u001b[43mraise_for_status\u001b[49m\u001b[43m(\u001b[49m\u001b[43m)\u001b[49m\n\u001b[32m     23\u001b[39m \u001b[38;5;28;01mexcept\u001b[39;00m requests.models.HTTPError \u001b[38;5;28;01mas\u001b[39;00m e:\n",
      "\u001b[36mFile \u001b[39m\u001b[32mc:\\Users\\x1 yoga\\Documents\\q4\\dc2\\venv\\Lib\\site-packages\\requests\\models.py:1024\u001b[39m, in \u001b[36mResponse.raise_for_status\u001b[39m\u001b[34m(self)\u001b[39m\n\u001b[32m   1023\u001b[39m \u001b[38;5;28;01mif\u001b[39;00m http_error_msg:\n\u001b[32m-> \u001b[39m\u001b[32m1024\u001b[39m     \u001b[38;5;28;01mraise\u001b[39;00m HTTPError(http_error_msg, response=\u001b[38;5;28mself\u001b[39m)\n",
      "\u001b[31mHTTPError\u001b[39m: 404 Client Error: NOT FOUND for url: https://data.police.uk:443/api/leicestershire/city-centre-neighbourhood/boundary",
      "\nDuring handling of the above exception, another exception occurred:\n",
      "\u001b[31mAPIError\u001b[39m                                  Traceback (most recent call last)",
      "\u001b[36mCell\u001b[39m\u001b[36m \u001b[39m\u001b[32mIn[27]\u001b[39m\u001b[32m, line 3\u001b[39m\n\u001b[32m      1\u001b[39m api.get_latest_date()\n\u001b[32m      2\u001b[39m \u001b[38;5;66;03m# u'2013-09'\u001b[39;00m\n\u001b[32m----> \u001b[39m\u001b[32m3\u001b[39m api.get_crimes_area(\u001b[43mcity_centre\u001b[49m\u001b[43m.\u001b[49m\u001b[43mboundary\u001b[49m)\n\u001b[32m      4\u001b[39m \u001b[38;5;66;03m# [<Crime> 26926242, ..., <Crime> 26925710]\u001b[39;00m\n\u001b[32m      5\u001b[39m \u001b[38;5;28mlen\u001b[39m(api.get_crimes_area(city_centre.boundary, date=\u001b[33m'\u001b[39m\u001b[33m2013-08\u001b[39m\u001b[33m'\u001b[39m))\n",
      "\u001b[36mFile \u001b[39m\u001b[32mc:\\Users\\x1 yoga\\Documents\\q4\\dc2\\venv\\Lib\\site-packages\\police_api\\neighbourhoods.py:125\u001b[39m, in \u001b[36mNeighbourhood.boundary\u001b[39m\u001b[34m(self)\u001b[39m\n\u001b[32m    122\u001b[39m \u001b[38;5;129m@property\u001b[39m\n\u001b[32m    123\u001b[39m \u001b[38;5;28;01mdef\u001b[39;00m\u001b[38;5;250m \u001b[39m\u001b[34mboundary\u001b[39m(\u001b[38;5;28mself\u001b[39m):\n\u001b[32m    124\u001b[39m     \u001b[38;5;28;01mif\u001b[39;00m \u001b[38;5;28mself\u001b[39m._boundary \u001b[38;5;129;01mis\u001b[39;00m \u001b[38;5;28;01mNone\u001b[39;00m:\n\u001b[32m--> \u001b[39m\u001b[32m125\u001b[39m         \u001b[38;5;28mself\u001b[39m._boundary = \u001b[38;5;28;43mself\u001b[39;49m\u001b[43m.\u001b[49m\u001b[43m_get_boundary\u001b[49m\u001b[43m(\u001b[49m\u001b[43m)\u001b[49m\n\u001b[32m    126\u001b[39m     \u001b[38;5;28;01mreturn\u001b[39;00m \u001b[38;5;28mself\u001b[39m._boundary\n",
      "\u001b[36mFile \u001b[39m\u001b[32mc:\\Users\\x1 yoga\\Documents\\q4\\dc2\\venv\\Lib\\site-packages\\police_api\\neighbourhoods.py:103\u001b[39m, in \u001b[36mNeighbourhood._get_boundary\u001b[39m\u001b[34m(self)\u001b[39m\n\u001b[32m    101\u001b[39m \u001b[38;5;28;01mdef\u001b[39;00m\u001b[38;5;250m \u001b[39m\u001b[34m_get_boundary\u001b[39m(\u001b[38;5;28mself\u001b[39m):\n\u001b[32m    102\u001b[39m     method = \u001b[33m'\u001b[39m\u001b[38;5;132;01m%s\u001b[39;00m\u001b[33m/\u001b[39m\u001b[38;5;132;01m%s\u001b[39;00m\u001b[33m/boundary\u001b[39m\u001b[33m'\u001b[39m % (\u001b[38;5;28mself\u001b[39m.force.id, \u001b[38;5;28mself\u001b[39m.id)\n\u001b[32m--> \u001b[39m\u001b[32m103\u001b[39m     points = \u001b[38;5;28;43mself\u001b[39;49m\u001b[43m.\u001b[49m\u001b[43mapi\u001b[49m\u001b[43m.\u001b[49m\u001b[43mservice\u001b[49m\u001b[43m.\u001b[49m\u001b[43mrequest\u001b[49m\u001b[43m(\u001b[49m\u001b[33;43m'\u001b[39;49m\u001b[33;43mGET\u001b[39;49m\u001b[33;43m'\u001b[39;49m\u001b[43m,\u001b[49m\u001b[43m \u001b[49m\u001b[43mmethod\u001b[49m\u001b[43m)\u001b[49m\n\u001b[32m    104\u001b[39m     \u001b[38;5;28;01mreturn\u001b[39;00m [(\u001b[38;5;28mfloat\u001b[39m(p[\u001b[33m'\u001b[39m\u001b[33mlatitude\u001b[39m\u001b[33m'\u001b[39m]), \u001b[38;5;28mfloat\u001b[39m(p[\u001b[33m'\u001b[39m\u001b[33mlongitude\u001b[39m\u001b[33m'\u001b[39m])) \u001b[38;5;28;01mfor\u001b[39;00m p \u001b[38;5;129;01min\u001b[39;00m points]\n",
      "\u001b[36mFile \u001b[39m\u001b[32mc:\\Users\\x1 yoga\\Documents\\q4\\dc2\\venv\\Lib\\site-packages\\police_api\\service.py:47\u001b[39m, in \u001b[36mBaseService.request\u001b[39m\u001b[34m(self, verb, method, **kwargs)\u001b[39m\n\u001b[32m     45\u001b[39m \u001b[38;5;28;01mdef\u001b[39;00m\u001b[38;5;250m \u001b[39m\u001b[34mrequest\u001b[39m(\u001b[38;5;28mself\u001b[39m, verb, method, **kwargs):\n\u001b[32m     46\u001b[39m     url = \u001b[38;5;28mself\u001b[39m.config[\u001b[33m'\u001b[39m\u001b[33mbase_url\u001b[39m\u001b[33m'\u001b[39m] + method\n\u001b[32m---> \u001b[39m\u001b[32m47\u001b[39m     \u001b[38;5;28;01mreturn\u001b[39;00m \u001b[38;5;28;43mself\u001b[39;49m\u001b[43m.\u001b[49m\u001b[43m_make_request\u001b[49m\u001b[43m(\u001b[49m\u001b[43mverb\u001b[49m\u001b[43m.\u001b[49m\u001b[43mupper\u001b[49m\u001b[43m(\u001b[49m\u001b[43m)\u001b[49m\u001b[43m,\u001b[49m\u001b[43m \u001b[49m\u001b[43murl\u001b[49m\u001b[43m,\u001b[49m\u001b[43m \u001b[49m\u001b[43mkwargs\u001b[49m\u001b[43m)\u001b[49m\n",
      "\u001b[36mFile \u001b[39m\u001b[32mc:\\Users\\x1 yoga\\Documents\\q4\\dc2\\venv\\Lib\\site-packages\\police_api\\service.py:42\u001b[39m, in \u001b[36mBaseService._make_request\u001b[39m\u001b[34m(self, verb, url, params)\u001b[39m\n\u001b[32m     40\u001b[39m logger.debug(\u001b[33m'\u001b[39m\u001b[38;5;132;01m%s\u001b[39;00m\u001b[33m \u001b[39m\u001b[38;5;132;01m%s\u001b[39;00m\u001b[33m'\u001b[39m % (verb, url))\n\u001b[32m     41\u001b[39m r = requests.request(verb, url, **request_kwargs)\n\u001b[32m---> \u001b[39m\u001b[32m42\u001b[39m \u001b[38;5;28;43mself\u001b[39;49m\u001b[43m.\u001b[49m\u001b[43mraise_for_status\u001b[49m\u001b[43m(\u001b[49m\u001b[43mr\u001b[49m\u001b[43m)\u001b[49m\n\u001b[32m     43\u001b[39m \u001b[38;5;28;01mreturn\u001b[39;00m r.json()\n",
      "\u001b[36mFile \u001b[39m\u001b[32mc:\\Users\\x1 yoga\\Documents\\q4\\dc2\\venv\\Lib\\site-packages\\police_api\\service.py:24\u001b[39m, in \u001b[36mBaseService.raise_for_status\u001b[39m\u001b[34m(self, request)\u001b[39m\n\u001b[32m     22\u001b[39m     request.raise_for_status()\n\u001b[32m     23\u001b[39m \u001b[38;5;28;01mexcept\u001b[39;00m requests.models.HTTPError \u001b[38;5;28;01mas\u001b[39;00m e:\n\u001b[32m---> \u001b[39m\u001b[32m24\u001b[39m     \u001b[38;5;28;01mraise\u001b[39;00m APIError(e)\n",
      "\u001b[31mAPIError\u001b[39m: <unknown error code>"
     ]
    }
   ],
   "source": [
    "api.get_latest_date()\n",
    "# u'2013-09'\n",
    "api.get_crimes_area(city_centre.boundary)\n",
    "# [<Crime> 26926242, ..., <Crime> 26925710]\n",
    "len(api.get_crimes_area(city_centre.boundary, date='2013-08'))\n",
    "# 810\n",
    "crime = api.get_crimes_area(city_centre.boundary, date='2013-06')[0]\n",
    "crime.outcomes\n",
    "#[<Crime.Outcome> Under investigation, <Crime.Outcome> Suspect charged, <Crime.Outcome> Awaiting court outcome]"
   ]
  },
  {
   "cell_type": "code",
   "execution_count": null,
   "metadata": {},
   "outputs": [
    {
     "name": "stdout",
     "output_type": "stream",
     "text": [
      "Latest available month: 2025-02\n",
      "Request failed: 400 Client Error: BAD REQUEST for url: https://data.police.uk/api/crimes-street/all-crime?force=city-of-london&date=2025-02\n",
      "No crime data available.\n"
     ]
    }
   ],
   "source": [
    "def get_crime_data(force_id, year_month):\n",
    "    url = f\"https://data.police.uk/api/crimes-street/all-crime?force={force_id}&date={year_month}\"\n",
    "    try:\n",
    "        response = requests.get(url)\n",
    "        response.raise_for_status()  # Raises HTTPError for bad status codes\n",
    "        return response.json()\n",
    "    except requests.exceptions.JSONDecodeError:\n",
    "        print(f\"Empty/bad response for {year_month}. Possible invalid date or no data.\")\n",
    "        return []\n",
    "    except requests.exceptions.RequestException as e:\n",
    "        print(f\"Request failed: {e}\")\n",
    "        return []\n",
    "\n",
    "# **1. Determine latest valid date**\n",
    "latest_data = requests.get('https://data.police.uk/api/crime-last-updated').json()\n",
    "latest_month = latest_data['date']\n",
    "print(f\"Latest available month: {latest_month}\")\n",
    "\n",
    "# 2. Get City of London data for latest month\n",
    "force_id = 'city-of-london'\n",
    "crimes = get_crime_data(force_id, latest_month)  # Use latest_month here\n"
   ]
  },
  {
   "cell_type": "code",
   "execution_count": 20,
   "metadata": {},
   "outputs": [],
   "source": [
    "def get_available_months():\n",
    "    \"\"\"\n",
    "    Returns a list of available YYYY-MM strings, sorted newest first.\n",
    "    \"\"\"\n",
    "    url = \"https://data.police.uk/api/crimes-street-dates\"\n",
    "    resp = requests.get(url)\n",
    "    resp.raise_for_status()  # raises HTTPError for 4xx/5xx :contentReference[oaicite:2]{index=2}\n",
    "    js = resp.json()\n",
    "    # Each item is { \"date\": \"YYYY-MM\", ... }\n",
    "    return [item[\"date\"] for item in sorted(js, key=lambda x: x[\"date\"], reverse=True)]\n"
   ]
  },
  {
   "cell_type": "code",
   "execution_count": null,
   "metadata": {},
   "outputs": [
    {
     "name": "stdout",
     "output_type": "stream",
     "text": [
      "Trying months: ['2025-02', '2025-01', '2024-12'] ...\n"
     ]
    },
    {
     "ename": "RuntimeError",
     "evalue": "No crime data found in the last 12 months.",
     "output_type": "error",
     "traceback": [
      "\u001b[31m---------------------------------------------------------------------------\u001b[39m",
      "\u001b[31mRuntimeError\u001b[39m                              Traceback (most recent call last)",
      "\u001b[36mCell\u001b[39m\u001b[36m \u001b[39m\u001b[32mIn[22]\u001b[39m\u001b[32m, line 22\u001b[39m\n\u001b[32m     20\u001b[39m         \u001b[38;5;28;01mbreak\u001b[39;00m\n\u001b[32m     21\u001b[39m \u001b[38;5;28;01melse\u001b[39;00m:\n\u001b[32m---> \u001b[39m\u001b[32m22\u001b[39m     \u001b[38;5;28;01mraise\u001b[39;00m \u001b[38;5;167;01mRuntimeError\u001b[39;00m(\u001b[33m\"\u001b[39m\u001b[33mNo crime data found in the last 12 months.\u001b[39m\u001b[33m\"\u001b[39m)\n\u001b[32m     24\u001b[39m \u001b[38;5;66;03m# At this point, `crimes` contains the first non-empty result,\u001b[39;00m\n\u001b[32m     25\u001b[39m \u001b[38;5;66;03m# and `month` holds the corresponding YYYY-MM string.\u001b[39;00m\n",
      "\u001b[31mRuntimeError\u001b[39m: No crime data found in the last 12 months."
     ]
    }
   ],
   "source": [
    "def get_crime_data(force_id, year_month):\n",
    "    url = f\"https://data.police.uk/api/crimes-street/all-crime?force={force_id}&date={year_month}\"\n",
    "    try:\n",
    "        response = requests.get(url)\n",
    "        response.raise_for_status()\n",
    "        return response.json()\n",
    "    except requests.exceptions.RequestException:\n",
    "        # This covers HTTPError, ConnectionError, Timeout, etc.\n",
    "        return []\n",
    "\n",
    "force_id = \"city-of-london\"\n",
    "available_months = get_available_months()\n",
    "print(\"Trying months:\", available_months[:3], \"...\")  # debug\n",
    "\n",
    "# Iterate through the 12 most recent months (or however many you like)\n",
    "for month in available_months[:24]:\n",
    "    crimes = get_crime_data(force_id, month)\n",
    "    if crimes:\n",
    "        print(f\"Found data for {month}!\")\n",
    "        break\n",
    "else:\n",
    "    raise RuntimeError(\"No crime data found in the last 12 months.\")\n",
    "\n",
    "# At this point, `crimes` contains the first non-empty result,\n",
    "# and `month` holds the corresponding YYYY-MM string.\n"
   ]
  },
  {
   "cell_type": "code",
   "execution_count": 18,
   "metadata": {},
   "outputs": [
    {
     "name": "stdout",
     "output_type": "stream",
     "text": [
      "<class 'str'>\n",
      "Latest available month: 2025-02-01\n",
      "Request failed: 404 Client Error: NOT FOUND for url: https://data.police.uk/api/crimes-street/all-crime?force=city-of-london&date=2024-02-01\n",
      "No data received. Check date validity (format YYYY-MM) and try older months.\n"
     ]
    }
   ],
   "source": [
    "# Error handling wrapper\n",
    "def get_crime_data(force_id, year_month):\n",
    "    url = f\"https://data.police.uk/api/crimes-street/all-crime?force={force_id}&date={year_month}\"\n",
    "    try:\n",
    "        response = requests.get(url)\n",
    "        response.raise_for_status()  # Raises HTTPError for bad status codes\n",
    "        return response.json()\n",
    "    except requests.exceptions.JSONDecodeError:\n",
    "        print(f\"Empty/bad response for {year_month}. Possible invalid date or no data.\")\n",
    "        return []\n",
    "    except requests.exceptions.RequestException as e:\n",
    "        print(f\"Request failed: {e}\")\n",
    "        return []\n",
    "\n",
    "# Get City of London data\n",
    "force_id = 'city-of-london'\n",
    "latest_data = requests.get('https://data.police.uk/api/crime-last-updated').json()\n",
    "latest_month = latest_data['date']\n",
    "print(type(latest_data['date']))\n",
    "\n",
    "print(f\"Latest available month: {latest_month}\")\n",
    "date = '2024-02-01' # Use older months\n",
    "crimes = get_crime_data(force_id, date)\n",
    "\n",
    "if not crimes:\n",
    "    print(\"No data received. Check date validity (format YYYY-MM) and try older months.\")\n",
    "else:\n",
    "    # Filter burglaries and create DataFrame\n",
    "    burglaries = [c for c in crimes if c['category'] == 'burglary']\n",
    "    df = pd.json_normalize(burglaries)\n",
    "    \n",
    "    # Display first 10 entries\n",
    "    print(\"First 10 burglaries:\")\n",
    "    print(df[['month', 'location.street.name', 'location.latitude', 'location.longitude']].head(10))\n",
    "    \n",
    "    # Add time analysis\n",
    "    if 'outcome_status.date' in df.columns:\n",
    "        df['datetime'] = pd.to_datetime(df['outcome_status.date'])\n",
    "        df['hour'] = df['datetime'].dt.hour\n",
    "        df['is_weekend'] = df['datetime'].dt.dayofweek >= 5\n",
    "    else:\n",
    "        # Fallback to month-level analysis if no precise timestamps\n",
    "        df['datetime'] = pd.to_datetime(df['month'])\n",
    "        print(\"\\nWarning: No hourly data available - using month-level analysis\")\n",
    "\n",
    "    # Visualization\n",
    "    plt.figure(figsize=(15, 5))\n",
    "    \n",
    "    # Time analysis\n",
    "    if 'hour' in df.columns:\n",
    "        plt.subplot(1, 3, 1)\n",
    "        df['hour'].value_counts().sort_index().plot(kind='bar')\n",
    "        plt.title('Burglary Frequency by Hour')\n",
    "    \n",
    "    \n",
    "    # Weekend analysis\n",
    "    if 'is_weekend' in df.columns:\n",
    "        plt.subplot(1, 3, 2)\n",
    "        df['is_weekend'].value_counts().plot(kind='pie', autopct='%1.1f%%')\n",
    "        plt.title('Weekend vs Weekday Burglaries')\n",
    "    \n",
    "    # LSOA Analysis\n",
    "    plt.subplot(1, 3, 3)\n",
    "    df['location.lsoa'].value_counts().head(10).plot(kind='barh')\n",
    "    plt.title('Top 10 LSOA Areas')\n",
    "    \n",
    "    plt.tight_layout()\n",
    "    plt.show()\n"
   ]
  },
  {
   "cell_type": "code",
   "execution_count": null,
   "metadata": {},
   "outputs": [],
   "source": []
  }
 ],
 "metadata": {
  "kernelspec": {
   "display_name": "venv",
   "language": "python",
   "name": "python3"
  },
  "language_info": {
   "codemirror_mode": {
    "name": "ipython",
    "version": 3
   },
   "file_extension": ".py",
   "mimetype": "text/x-python",
   "name": "python",
   "nbconvert_exporter": "python",
   "pygments_lexer": "ipython3",
   "version": "3.12.3"
  }
 },
 "nbformat": 4,
 "nbformat_minor": 2
}
